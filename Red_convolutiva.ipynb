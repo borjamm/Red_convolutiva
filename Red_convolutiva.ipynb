{
  "nbformat": 4,
  "nbformat_minor": 0,
  "metadata": {
    "colab": {
      "name": "Red-convolutiva.ipynb",
      "version": "0.3.2",
      "provenance": [],
      "collapsed_sections": [],
      "include_colab_link": true
    },
    "kernelspec": {
      "name": "python3",
      "display_name": "Python 3"
    },
    "accelerator": "GPU"
  },
  "cells": [
    {
      "cell_type": "markdown",
      "metadata": {
        "id": "view-in-github",
        "colab_type": "text"
      },
      "source": [
        "<a href=\"https://colab.research.google.com/github/borjamm/Red_convolutiva/blob/master/Red_convolutiva.ipynb\" target=\"_parent\"><img src=\"https://colab.research.google.com/assets/colab-badge.svg\" alt=\"Open In Colab\"/></a>"
      ]
    },
    {
      "cell_type": "code",
      "metadata": {
        "id": "x9SpZ8sSYm99",
        "colab_type": "code",
        "outputId": "bea1b6c7-8fbc-4f8c-f77a-7773f803f1cc",
        "colab": {
          "base_uri": "https://localhost:8080/",
          "height": 122
        }
      },
      "source": [
        "from google.colab import drive\n",
        "drive.mount('/content/drive')"
      ],
      "execution_count": 2,
      "outputs": [
        {
          "output_type": "stream",
          "text": [
            "Go to this URL in a browser: https://accounts.google.com/o/oauth2/auth?client_id=947318989803-6bn6qk8qdgf4n4g3pfee6491hc0brc4i.apps.googleusercontent.com&redirect_uri=urn%3Aietf%3Awg%3Aoauth%3A2.0%3Aoob&scope=email%20https%3A%2F%2Fwww.googleapis.com%2Fauth%2Fdocs.test%20https%3A%2F%2Fwww.googleapis.com%2Fauth%2Fdrive%20https%3A%2F%2Fwww.googleapis.com%2Fauth%2Fdrive.photos.readonly%20https%3A%2F%2Fwww.googleapis.com%2Fauth%2Fpeopleapi.readonly&response_type=code\n",
            "\n",
            "Enter your authorization code:\n",
            "··········\n",
            "Mounted at /content/drive\n"
          ],
          "name": "stdout"
        }
      ]
    },
    {
      "cell_type": "code",
      "metadata": {
        "id": "BepxGvzpu4ge",
        "colab_type": "code",
        "outputId": "b3e461d5-6549-43a8-87f6-2d282d3f6891",
        "colab": {
          "base_uri": "https://localhost:8080/",
          "height": 34
        }
      },
      "source": [
        "import tensorflow as tf\n",
        "tf.test.gpu_device_name()"
      ],
      "execution_count": 3,
      "outputs": [
        {
          "output_type": "execute_result",
          "data": {
            "text/plain": [
              "'/device:GPU:0'"
            ]
          },
          "metadata": {
            "tags": []
          },
          "execution_count": 3
        }
      ]
    },
    {
      "cell_type": "code",
      "metadata": {
        "id": "kuoF0wDbdBek",
        "colab_type": "code",
        "outputId": "ac150d0c-0334-496e-aad0-842af5d16efe",
        "colab": {
          "base_uri": "https://localhost:8080/",
          "height": 286
        }
      },
      "source": [
        "from matplotlib.pyplot import imshow\n",
        "import numpy as np\n",
        "from PIL import Image\n",
        "\n",
        "%matplotlib inline\n",
        "pil_im = Image.open('/content/drive/My Drive/Colab Notebooks/LEGO brick images/train/2357 Brick corner 1x2x2/201706171206-0187.png', 'r')\n",
        "imshow(np.asarray(pil_im))"
      ],
      "execution_count": 4,
      "outputs": [
        {
          "output_type": "execute_result",
          "data": {
            "text/plain": [
              "<matplotlib.image.AxesImage at 0x7f2c46566f28>"
            ]
          },
          "metadata": {
            "tags": []
          },
          "execution_count": 4
        },
        {
          "output_type": "display_data",
          "data": {
            "image/png": "[encoded data removed]",
            "text/plain": [
              "<Figure size 432x288 with 1 Axes>"
            ]
          },
          "metadata": {
            "tags": []
          }
        }
      ]
    },
    {
      "cell_type": "markdown",
      "metadata": {
        "id": "QRAZ-nY6q_i3",
        "colab_type": "text"
      },
      "source": [
        "Comenzamos a crear nuestra red convolutiva. Para ello, especificamos los directorios donde se almacenan las imágenes a clasificar y las configuramos para la red.\n",
        "\n"
      ]
    },
    {
      "cell_type": "code",
      "metadata": {
        "id": "r44hM7CSn9H4",
        "colab_type": "code",
        "outputId": "f77f58bf-c53e-4d52-e537-8e40f439fe63",
        "colab": {
          "base_uri": "https://localhost:8080/",
          "height": 51
        }
      },
      "source": [
        "from keras.preprocessing.image import ImageDataGenerator\n",
        "from keras.models import Sequential\n",
        "from keras.layers import Dense, Dropout\n",
        "from keras.optimizers import RMSprop\n",
        "from keras.layers import Dense, Dropout, Flatten\n",
        "from keras.layers import Conv2D, MaxPooling2D\n",
        "from keras import backend as K\n",
        "import keras\n",
        "from time import time\n",
        "\n",
        "\n",
        "# DATA SOURCE --------------------------------------------------\n",
        "\n",
        "batch_size = 100\n",
        "\n",
        "train_data_dir = '/content/drive/My Drive/Colab Notebooks/LEGO brick images/train'\n",
        "validation_data_dir = '/content/drive/My Drive/Colab Notebooks/LEGO brick images/valid'\n",
        "\n",
        "train_datagen = ImageDataGenerator( \n",
        "        rescale=1./255, \n",
        "        shear_range=0.2,\n",
        "        zoom_range=0.2, \n",
        "        horizontal_flip=True) \n",
        "\n",
        "test_datagen = ImageDataGenerator(rescale=1./255) \n",
        "\n",
        "train_generator = train_datagen.flow_from_directory( \n",
        "        train_data_dir,\n",
        "        target_size=(150, 150), \n",
        "        batch_size=100, \n",
        "        class_mode='categorical') \n",
        "\n",
        "validation_generator = test_datagen.flow_from_directory(\n",
        "        validation_data_dir,\n",
        "        target_size=(150, 150),\n",
        "        batch_size=batch_size,\n",
        "        class_mode='categorical')"
      ],
      "execution_count": 14,
      "outputs": [
        {
          "output_type": "stream",
          "text": [
            "Found 3296 images belonging to 16 classes.\n",
            "Found 3296 images belonging to 16 classes.\n"
          ],
          "name": "stdout"
        }
      ]
    },
    {
      "cell_type": "markdown",
      "metadata": {
        "id": "j2PYAFGer1ak",
        "colab_type": "text"
      },
      "source": [
        "Es hora de definir el modelo que va a seguir nuestra red convolutiva. Para ello especificamos el números de capas que va a tener, el kernel en cada capa, las funciones de activación, los hiperparámetros, etc."
      ]
    },
    {
      "cell_type": "code",
      "metadata": {
        "id": "nBI-RLI8n40t",
        "colab_type": "code",
        "colab": {}
      },
      "source": [
        "# MODEL --------------------------------------------------\n",
        "\n",
        "model = Sequential() \n",
        "model.add(Conv2D(32, kernel_size=(3, 3), activation='relu', input_shape=(150, 150, 3))) \n",
        "model.add(MaxPooling2D(pool_size=(2, 2))) \n",
        "\n",
        "model.add(Conv2D(64, (3, 3), activation='relu')) \n",
        "model.add(MaxPooling2D(pool_size=(2, 2)))\n",
        "\n",
        "model.add(Dropout(0.40)) \n",
        "model.add(Flatten()) \n",
        "model.add(Dense(128)) \n",
        "\n",
        "model.add(Dropout(0.50)) \n",
        "model.add(Dense(16, activation='softmax'))\n",
        "\n",
        "model.compile(loss=keras.losses.categorical_crossentropy, \n",
        "              optimizer=keras.optimizers.Adadelta(),\n",
        "              metrics=['accuracy'])"
      ],
      "execution_count": 0,
      "outputs": []
    },
    {
      "cell_type": "markdown",
      "metadata": {
        "id": "LyIv6fdBsm75",
        "colab_type": "text"
      },
      "source": [
        "Ya casi está todo listo, sólo falta que el modelo comience a entrenar y a validar el conjunto de muestras."
      ]
    },
    {
      "cell_type": "code",
      "metadata": {
        "id": "goqf1_T0vGhK",
        "colab_type": "code",
        "outputId": "07e1d76a-97a9-4021-a11e-ad879ec50fe0",
        "colab": {
          "base_uri": "https://localhost:8080/",
          "height": 374
        }
      },
      "source": [
        "# TRAINING --------------------------------------------------\n",
        "epochs = 10\n",
        "\n",
        "model.fit_generator( \n",
        "        train_generator,\n",
        "        steps_per_epoch=330,\n",
        "        epochs=epochs, \n",
        "        validation_data=validation_generator,\n",
        "        validation_steps=330,\n",
        ")"
      ],
      "execution_count": 16,
      "outputs": [
        {
          "output_type": "stream",
          "text": [
            "Epoch 1/10\n",
            "330/330 [==============================] - 289s 874ms/step - loss: 1.2389 - acc: 0.5848 - val_loss: 0.7839 - val_acc: 0.7145\n",
            "Epoch 2/10\n",
            "330/330 [==============================] - 283s 856ms/step - loss: 0.7442 - acc: 0.7477 - val_loss: 0.6233 - val_acc: 0.7934\n",
            "Epoch 3/10\n",
            "330/330 [==============================] - 282s 854ms/step - loss: 0.4761 - acc: 0.8418 - val_loss: 0.5162 - val_acc: 0.8383\n",
            "Epoch 4/10\n",
            "330/330 [==============================] - 285s 863ms/step - loss: 0.3299 - acc: 0.8924 - val_loss: 0.5291 - val_acc: 0.8565\n",
            "Epoch 5/10\n",
            "330/330 [==============================] - 284s 861ms/step - loss: 0.2415 - acc: 0.9214 - val_loss: 0.5620 - val_acc: 0.8632\n",
            "Epoch 6/10\n",
            "330/330 [==============================] - 285s 864ms/step - loss: 0.1824 - acc: 0.9396 - val_loss: 0.6056 - val_acc: 0.8532\n",
            "Epoch 7/10\n",
            "330/330 [==============================] - 282s 854ms/step - loss: 0.1510 - acc: 0.9499 - val_loss: 0.5715 - val_acc: 0.8805\n",
            "Epoch 8/10\n",
            "330/330 [==============================] - 284s 861ms/step - loss: 0.1261 - acc: 0.9578 - val_loss: 0.6103 - val_acc: 0.8774\n",
            "Epoch 9/10\n",
            "330/330 [==============================] - 282s 854ms/step - loss: 0.1077 - acc: 0.9638 - val_loss: 0.5956 - val_acc: 0.8792\n",
            "Epoch 10/10\n",
            "330/330 [==============================] - 284s 862ms/step - loss: 0.0966 - acc: 0.9674 - val_loss: 0.5959 - val_acc: 0.8914\n"
          ],
          "name": "stdout"
        },
        {
          "output_type": "execute_result",
          "data": {
            "text/plain": [
              "<keras.callbacks.History at 0x7f2c255feb38>"
            ]
          },
          "metadata": {
            "tags": []
          },
          "execution_count": 16
        }
      ]
    }
  ]
}